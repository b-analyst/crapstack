{
 "cells": [
  {
   "cell_type": "code",
   "execution_count": 4,
   "metadata": {},
   "outputs": [],
   "source": [
    "from crapstack.document_stores.faiss import FAISSDocumentStore\n"
   ]
  },
  {
   "cell_type": "code",
   "execution_count": 5,
   "metadata": {},
   "outputs": [
    {
     "ename": "ValueError",
     "evalue": "The number of documents in the SQL database (3904) doesn't match the number of embeddings in FAISS (0). Make sure your FAISS configuration file points to the same database that you used when you saved the original index.",
     "output_type": "error",
     "traceback": [
      "\u001b[1;31m---------------------------------------------------------------------------\u001b[0m",
      "\u001b[1;31mValueError\u001b[0m                                Traceback (most recent call last)",
      "Cell \u001b[1;32mIn[5], line 1\u001b[0m\n\u001b[1;32m----> 1\u001b[0m document_store \u001b[39m=\u001b[39m FAISSDocumentStore(embedding_dim\u001b[39m=\u001b[39;49m\u001b[39m128\u001b[39;49m, faiss_index_factory_str\u001b[39m=\u001b[39;49m\u001b[39m\"\u001b[39;49m\u001b[39mFlat\u001b[39;49m\u001b[39m\"\u001b[39;49m)\n",
      "File \u001b[1;32mc:\\Users\\kchun\\Desktop\\crapstack\\crapstack\\haystack\\nodes\\base.py:46\u001b[0m, in \u001b[0;36mexportable_to_yaml.<locals>.wrapper_exportable_to_yaml\u001b[1;34m(self, *args, **kwargs)\u001b[0m\n\u001b[0;32m     43\u001b[0m         \u001b[39mself\u001b[39m\u001b[39m.\u001b[39m_component_config[\u001b[39m\"\u001b[39m\u001b[39mparams\u001b[39m\u001b[39m\"\u001b[39m][k] \u001b[39m=\u001b[39m v\n\u001b[0;32m     45\u001b[0m \u001b[39m# Call the actuall __init__ function with all the arguments\u001b[39;00m\n\u001b[1;32m---> 46\u001b[0m init_func(\u001b[39mself\u001b[39;49m, \u001b[39m*\u001b[39;49margs, \u001b[39m*\u001b[39;49m\u001b[39m*\u001b[39;49mkwargs)\n",
      "File \u001b[1;32mc:\\Users\\kchun\\Desktop\\crapstack\\crapstack\\document_stores\\faiss.py:166\u001b[0m, in \u001b[0;36mFAISSDocumentStore.__init__\u001b[1;34m(self, sql_url, vector_dim, embedding_dim, faiss_index_factory_str, faiss_index, return_embedding, index, similarity, embedding_field, progress_bar, duplicate_documents, faiss_index_path, faiss_config_path, isolation_level, n_links, ef_search, ef_construction, validate_index_sync)\u001b[0m\n\u001b[0;32m    161\u001b[0m \u001b[39msuper\u001b[39m()\u001b[39m.\u001b[39m\u001b[39m__init__\u001b[39m(\n\u001b[0;32m    162\u001b[0m     url\u001b[39m=\u001b[39msql_url, index\u001b[39m=\u001b[39mindex, duplicate_documents\u001b[39m=\u001b[39mduplicate_documents, isolation_level\u001b[39m=\u001b[39misolation_level\n\u001b[0;32m    163\u001b[0m )\n\u001b[0;32m    165\u001b[0m \u001b[39mif\u001b[39;00m validate_index_sync:\n\u001b[1;32m--> 166\u001b[0m     \u001b[39mself\u001b[39;49m\u001b[39m.\u001b[39;49m_validate_index_sync()\n",
      "File \u001b[1;32mc:\\Users\\kchun\\Desktop\\crapstack\\crapstack\\document_stores\\faiss.py:185\u001b[0m, in \u001b[0;36mFAISSDocumentStore._validate_index_sync\u001b[1;34m(self)\u001b[0m\n\u001b[0;32m    180\u001b[0m \u001b[39mdef\u001b[39;00m \u001b[39m_validate_index_sync\u001b[39m(\u001b[39mself\u001b[39m):\n\u001b[0;32m    181\u001b[0m     \u001b[39m# This check ensures the correct document database was loaded.\u001b[39;00m\n\u001b[0;32m    182\u001b[0m     \u001b[39m# If it fails, make sure you provided the path to the database\u001b[39;00m\n\u001b[0;32m    183\u001b[0m     \u001b[39m# used when creating the original FAISS index\u001b[39;00m\n\u001b[0;32m    184\u001b[0m     \u001b[39mif\u001b[39;00m \u001b[39mnot\u001b[39;00m \u001b[39mself\u001b[39m\u001b[39m.\u001b[39mget_document_count() \u001b[39m==\u001b[39m \u001b[39mself\u001b[39m\u001b[39m.\u001b[39mget_embedding_count():\n\u001b[1;32m--> 185\u001b[0m         \u001b[39mraise\u001b[39;00m \u001b[39mValueError\u001b[39;00m(\n\u001b[0;32m    186\u001b[0m             \u001b[39mf\u001b[39m\u001b[39m\"\u001b[39m\u001b[39mThe number of documents in the SQL database (\u001b[39m\u001b[39m{\u001b[39;00m\u001b[39mself\u001b[39m\u001b[39m.\u001b[39mget_document_count()\u001b[39m}\u001b[39;00m\u001b[39m) doesn\u001b[39m\u001b[39m'\u001b[39m\u001b[39mt \u001b[39m\u001b[39m\"\u001b[39m\n\u001b[0;32m    187\u001b[0m             \u001b[39mf\u001b[39m\u001b[39m\"\u001b[39m\u001b[39mmatch the number of embeddings in FAISS (\u001b[39m\u001b[39m{\u001b[39;00m\u001b[39mself\u001b[39m\u001b[39m.\u001b[39mget_embedding_count()\u001b[39m}\u001b[39;00m\u001b[39m). Make sure your FAISS \u001b[39m\u001b[39m\"\u001b[39m\n\u001b[0;32m    188\u001b[0m             \u001b[39m\"\u001b[39m\u001b[39mconfiguration file points to the same database that \u001b[39m\u001b[39m\"\u001b[39m\n\u001b[0;32m    189\u001b[0m             \u001b[39m\"\u001b[39m\u001b[39myou used when you saved the original index.\u001b[39m\u001b[39m\"\u001b[39m\n\u001b[0;32m    190\u001b[0m         )\n",
      "\u001b[1;31mValueError\u001b[0m: The number of documents in the SQL database (3904) doesn't match the number of embeddings in FAISS (0). Make sure your FAISS configuration file points to the same database that you used when you saved the original index."
     ]
    }
   ],
   "source": [
    "document_store = FAISSDocumentStore(embedding_dim=128, faiss_index_factory_str=\"Flat\")\n"
   ]
  },
  {
   "cell_type": "code",
   "execution_count": 3,
   "metadata": {},
   "outputs": [
    {
     "data": {
      "text/html": [
       "<div>\n",
       "<style scoped>\n",
       "    .dataframe tbody tr th:only-of-type {\n",
       "        vertical-align: middle;\n",
       "    }\n",
       "\n",
       "    .dataframe tbody tr th {\n",
       "        vertical-align: top;\n",
       "    }\n",
       "\n",
       "    .dataframe thead th {\n",
       "        text-align: right;\n",
       "    }\n",
       "</style>\n",
       "<table border=\"1\" class=\"dataframe\">\n",
       "  <thead>\n",
       "    <tr style=\"text-align: right;\">\n",
       "      <th></th>\n",
       "      <th>patent_id</th>\n",
       "      <th>mainclass_id</th>\n",
       "      <th>year</th>\n",
       "      <th>patent_text</th>\n",
       "    </tr>\n",
       "  </thead>\n",
       "  <tbody>\n",
       "    <tr>\n",
       "      <th>0</th>\n",
       "      <td>3930300</td>\n",
       "      <td>257</td>\n",
       "      <td>1976</td>\n",
       "      <td>Junction field effect transistor  A junction field effect transistor V shape...</td>\n",
       "    </tr>\n",
       "    <tr>\n",
       "      <th>1</th>\n",
       "      <td>3930303</td>\n",
       "      <td>257</td>\n",
       "      <td>1976</td>\n",
       "      <td>Method manufacturing compact thermoelectric modules A manufacturing method t...</td>\n",
       "    </tr>\n",
       "    <tr>\n",
       "      <th>2</th>\n",
       "      <td>3930304</td>\n",
       "      <td>257</td>\n",
       "      <td>1976</td>\n",
       "      <td>Method apparatus selective burnout trimming integrated circuit units Supplem...</td>\n",
       "    </tr>\n",
       "    <tr>\n",
       "      <th>3</th>\n",
       "      <td>3930305</td>\n",
       "      <td>257</td>\n",
       "      <td>1976</td>\n",
       "      <td>Method manufacturing integrated circuits A method manufacturing integrated c...</td>\n",
       "    </tr>\n",
       "    <tr>\n",
       "      <th>4</th>\n",
       "      <td>3930306</td>\n",
       "      <td>257</td>\n",
       "      <td>1976</td>\n",
       "      <td>Process attaching lead member semiconductor device A thermally electrically ...</td>\n",
       "    </tr>\n",
       "    <tr>\n",
       "      <th>...</th>\n",
       "      <td>...</td>\n",
       "      <td>...</td>\n",
       "      <td>...</td>\n",
       "      <td>...</td>\n",
       "    </tr>\n",
       "    <tr>\n",
       "      <th>7814692</th>\n",
       "      <td>8496534</td>\n",
       "      <td>470</td>\n",
       "      <td>2013</td>\n",
       "      <td>Group taps prepared hole cutting tools In FIG 2 diameter Dd drilling edges d...</td>\n",
       "    </tr>\n",
       "    <tr>\n",
       "      <th>7814693</th>\n",
       "      <td>8534022</td>\n",
       "      <td>470</td>\n",
       "      <td>2013</td>\n",
       "      <td>Twisted threaded reinforcing bar Techniques reinforcing concrete using rebar...</td>\n",
       "    </tr>\n",
       "    <tr>\n",
       "      <th>7814694</th>\n",
       "      <td>8550755</td>\n",
       "      <td>470</td>\n",
       "      <td>2013</td>\n",
       "      <td>Tap driver rigidsynchronous tapping Disclosed tap driver tap driver system r...</td>\n",
       "    </tr>\n",
       "    <tr>\n",
       "      <th>7814695</th>\n",
       "      <td>8602696</td>\n",
       "      <td>470</td>\n",
       "      <td>2013</td>\n",
       "      <td>Form tap plurality lobes A form tap tapping article may include longitudinal...</td>\n",
       "    </tr>\n",
       "    <tr>\n",
       "      <th>7814696</th>\n",
       "      <td>8616039</td>\n",
       "      <td>470</td>\n",
       "      <td>2013</td>\n",
       "      <td>Method manufacturing clinch pin fastener A clinchtype fastener formed simult...</td>\n",
       "    </tr>\n",
       "  </tbody>\n",
       "</table>\n",
       "<p>7814697 rows × 4 columns</p>\n",
       "</div>"
      ],
      "text/plain": [
       "         patent_id  mainclass_id  year  \\\n",
       "0          3930300           257  1976   \n",
       "1          3930303           257  1976   \n",
       "2          3930304           257  1976   \n",
       "3          3930305           257  1976   \n",
       "4          3930306           257  1976   \n",
       "...            ...           ...   ...   \n",
       "7814692    8496534           470  2013   \n",
       "7814693    8534022           470  2013   \n",
       "7814694    8550755           470  2013   \n",
       "7814695    8602696           470  2013   \n",
       "7814696    8616039           470  2013   \n",
       "\n",
       "                                                                             patent_text  \n",
       "0        Junction field effect transistor  A junction field effect transistor V shape...  \n",
       "1        Method manufacturing compact thermoelectric modules A manufacturing method t...  \n",
       "2        Method apparatus selective burnout trimming integrated circuit units Supplem...  \n",
       "3        Method manufacturing integrated circuits A method manufacturing integrated c...  \n",
       "4        Process attaching lead member semiconductor device A thermally electrically ...  \n",
       "...                                                                                  ...  \n",
       "7814692  Group taps prepared hole cutting tools In FIG 2 diameter Dd drilling edges d...  \n",
       "7814693  Twisted threaded reinforcing bar Techniques reinforcing concrete using rebar...  \n",
       "7814694  Tap driver rigidsynchronous tapping Disclosed tap driver tap driver system r...  \n",
       "7814695  Form tap plurality lobes A form tap tapping article may include longitudinal...  \n",
       "7814696  Method manufacturing clinch pin fastener A clinchtype fastener formed simult...  \n",
       "\n",
       "[7814697 rows x 4 columns]"
      ]
     },
     "execution_count": 3,
     "metadata": {},
     "output_type": "execute_result"
    }
   ],
   "source": [
    "import pandas as pd\n",
    "\n",
    "data = pd.read_csv('c:/users/kchun/desktop/notebooks/patents_v6.csv')\n",
    "data"
   ]
  },
  {
   "cell_type": "code",
   "execution_count": 4,
   "metadata": {},
   "outputs": [
    {
     "name": "stderr",
     "output_type": "stream",
     "text": [
      "Writing Documents: 10000it [00:03, 2979.62it/s]            \n"
     ]
    }
   ],
   "source": [
    "from crapstack.haystack.schema import Document\n",
    "\n",
    "documents = [Document(content=txt) for txt in data['patent_text'].sample(frac=.0005)]\n",
    "document_store.write_documents(documents=documents)"
   ]
  },
  {
   "cell_type": "code",
   "execution_count": 3,
   "metadata": {},
   "outputs": [
    {
     "ename": "NameError",
     "evalue": "name 'document_store' is not defined",
     "output_type": "error",
     "traceback": [
      "\u001b[1;31m---------------------------------------------------------------------------\u001b[0m",
      "\u001b[1;31mNameError\u001b[0m                                 Traceback (most recent call last)",
      "Cell \u001b[1;32mIn[3], line 8\u001b[0m\n\u001b[0;32m      3\u001b[0m \u001b[39mfrom\u001b[39;00m \u001b[39mcrapstack\u001b[39;00m\u001b[39m.\u001b[39;00m\u001b[39mhaystack\u001b[39;00m\u001b[39m.\u001b[39;00m\u001b[39mpipelines\u001b[39;00m\u001b[39m.\u001b[39;00m\u001b[39mstandard_pipelines\u001b[39;00m \u001b[39mimport\u001b[39;00m GenerativeQAPipeline\n\u001b[0;32m      4\u001b[0m \u001b[39m# from transformers import T5ForConditionalGeneration\u001b[39;00m\n\u001b[0;32m      5\u001b[0m \u001b[39m# import torch\u001b[39;00m\n\u001b[0;32m      7\u001b[0m retriever \u001b[39m=\u001b[39m DensePassageRetriever(\n\u001b[1;32m----> 8\u001b[0m     document_store\u001b[39m=\u001b[39mdocument_store,\n\u001b[0;32m      9\u001b[0m     query_embedding_model\u001b[39m=\u001b[39m\u001b[39m\"\u001b[39m\u001b[39mvblagoje/dpr-question_encoder-single-lfqa-wiki\u001b[39m\u001b[39m\"\u001b[39m,\n\u001b[0;32m     10\u001b[0m     passage_embedding_model\u001b[39m=\u001b[39m\u001b[39m\"\u001b[39m\u001b[39mvblagoje/dpr-ctx_encoder-single-lfqa-wiki\u001b[39m\u001b[39m\"\u001b[39m,\n\u001b[0;32m     11\u001b[0m )\n\u001b[0;32m     13\u001b[0m generator \u001b[39m=\u001b[39m Seq2SeqGenerator(model_name_or_path\u001b[39m=\u001b[39m\u001b[39m\"\u001b[39m\u001b[39mvblagoje/bart_lfqa\u001b[39m\u001b[39m\"\u001b[39m)\n\u001b[0;32m     14\u001b[0m \u001b[39m# generator = T5ForConditionalGeneration.from_pretrained(\"google/flan-ul2\", torch_dtype=torch.bfloat16, device_map=\"auto\")                                                                 \u001b[39;00m\n",
      "\u001b[1;31mNameError\u001b[0m: name 'document_store' is not defined"
     ]
    }
   ],
   "source": [
    "from crapstack.haystack.nodes.retriever import DensePassageRetriever\n",
    "from crapstack.haystack.nodes.answer_generator.transformers import Seq2SeqGenerator\n",
    "from crapstack.haystack.pipelines.standard_pipelines import GenerativeQAPipeline\n",
    "# from transformers import T5ForConditionalGeneration\n",
    "# import torch\n",
    "\n",
    "retriever = DensePassageRetriever(\n",
    "    document_store=document_store,\n",
    "    query_embedding_model=\"vblagoje/dpr-question_encoder-single-lfqa-wiki\",\n",
    "    passage_embedding_model=\"vblagoje/dpr-ctx_encoder-single-lfqa-wiki\",\n",
    ")\n",
    "\n",
    "generator = Seq2SeqGenerator(model_name_or_path=\"vblagoje/bart_lfqa\")\n",
    "# generator = T5ForConditionalGeneration.from_pretrained(\"google/flan-ul2\", torch_dtype=torch.bfloat16, device_map=\"auto\")                                                                 \n",
    "\n",
    "pipe = GenerativeQAPipeline(generator, retriever)"
   ]
  },
  {
   "cell_type": "code",
   "execution_count": null,
   "metadata": {},
   "outputs": [],
   "source": [
    "document_store.update_embeddings(retriever)"
   ]
  }
 ],
 "metadata": {
  "kernelspec": {
   "display_name": "base",
   "language": "python",
   "name": "python3"
  },
  "language_info": {
   "codemirror_mode": {
    "name": "ipython",
    "version": 3
   },
   "file_extension": ".py",
   "mimetype": "text/x-python",
   "name": "python",
   "nbconvert_exporter": "python",
   "pygments_lexer": "ipython3",
   "version": "3.8.16"
  },
  "orig_nbformat": 4
 },
 "nbformat": 4,
 "nbformat_minor": 2
}
