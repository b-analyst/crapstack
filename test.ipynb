{
 "cells": [
  {
   "cell_type": "code",
   "execution_count": 4,
   "metadata": {},
   "outputs": [],
   "source": [
    "from crapstack.document_stores.faiss import FAISSDocumentStore\n"
   ]
  },
  {
   "cell_type": "code",
   "execution_count": 5,
   "metadata": {},
   "outputs": [],
   "source": [
    "document_store = FAISSDocumentStore(embedding_dim=128, faiss_index_factory_str=\"Flat\")\n"
   ]
  },
  {
   "cell_type": "code",
   "execution_count": 6,
   "metadata": {},
   "outputs": [
    {
     "data": {
      "text/html": [
       "<div>\n",
       "<style scoped>\n",
       "    .dataframe tbody tr th:only-of-type {\n",
       "        vertical-align: middle;\n",
       "    }\n",
       "\n",
       "    .dataframe tbody tr th {\n",
       "        vertical-align: top;\n",
       "    }\n",
       "\n",
       "    .dataframe thead th {\n",
       "        text-align: right;\n",
       "    }\n",
       "</style>\n",
       "<table border=\"1\" class=\"dataframe\">\n",
       "  <thead>\n",
       "    <tr style=\"text-align: right;\">\n",
       "      <th></th>\n",
       "      <th>patent_id</th>\n",
       "      <th>mainclass_id</th>\n",
       "      <th>year</th>\n",
       "      <th>patent_text</th>\n",
       "    </tr>\n",
       "  </thead>\n",
       "  <tbody>\n",
       "    <tr>\n",
       "      <th>0</th>\n",
       "      <td>3930300</td>\n",
       "      <td>257</td>\n",
       "      <td>1976</td>\n",
       "      <td>Junction field effect transistor  A junction f...</td>\n",
       "    </tr>\n",
       "    <tr>\n",
       "      <th>1</th>\n",
       "      <td>3930303</td>\n",
       "      <td>257</td>\n",
       "      <td>1976</td>\n",
       "      <td>Method manufacturing compact thermoelectric mo...</td>\n",
       "    </tr>\n",
       "    <tr>\n",
       "      <th>2</th>\n",
       "      <td>3930304</td>\n",
       "      <td>257</td>\n",
       "      <td>1976</td>\n",
       "      <td>Method apparatus selective burnout trimming in...</td>\n",
       "    </tr>\n",
       "    <tr>\n",
       "      <th>3</th>\n",
       "      <td>3930305</td>\n",
       "      <td>257</td>\n",
       "      <td>1976</td>\n",
       "      <td>Method manufacturing integrated circuits A met...</td>\n",
       "    </tr>\n",
       "    <tr>\n",
       "      <th>4</th>\n",
       "      <td>3930306</td>\n",
       "      <td>257</td>\n",
       "      <td>1976</td>\n",
       "      <td>Process attaching lead member semiconductor de...</td>\n",
       "    </tr>\n",
       "    <tr>\n",
       "      <th>...</th>\n",
       "      <td>...</td>\n",
       "      <td>...</td>\n",
       "      <td>...</td>\n",
       "      <td>...</td>\n",
       "    </tr>\n",
       "    <tr>\n",
       "      <th>7814692</th>\n",
       "      <td>8496534</td>\n",
       "      <td>470</td>\n",
       "      <td>2013</td>\n",
       "      <td>Group taps prepared hole cutting tools In FIG ...</td>\n",
       "    </tr>\n",
       "    <tr>\n",
       "      <th>7814693</th>\n",
       "      <td>8534022</td>\n",
       "      <td>470</td>\n",
       "      <td>2013</td>\n",
       "      <td>Twisted threaded reinforcing bar Techniques re...</td>\n",
       "    </tr>\n",
       "    <tr>\n",
       "      <th>7814694</th>\n",
       "      <td>8550755</td>\n",
       "      <td>470</td>\n",
       "      <td>2013</td>\n",
       "      <td>Tap driver rigidsynchronous tapping Disclosed ...</td>\n",
       "    </tr>\n",
       "    <tr>\n",
       "      <th>7814695</th>\n",
       "      <td>8602696</td>\n",
       "      <td>470</td>\n",
       "      <td>2013</td>\n",
       "      <td>Form tap plurality lobes A form tap tapping ar...</td>\n",
       "    </tr>\n",
       "    <tr>\n",
       "      <th>7814696</th>\n",
       "      <td>8616039</td>\n",
       "      <td>470</td>\n",
       "      <td>2013</td>\n",
       "      <td>Method manufacturing clinch pin fastener A cli...</td>\n",
       "    </tr>\n",
       "  </tbody>\n",
       "</table>\n",
       "<p>7814697 rows × 4 columns</p>\n",
       "</div>"
      ],
      "text/plain": [
       "         patent_id  mainclass_id  year  \\\n",
       "0          3930300           257  1976   \n",
       "1          3930303           257  1976   \n",
       "2          3930304           257  1976   \n",
       "3          3930305           257  1976   \n",
       "4          3930306           257  1976   \n",
       "...            ...           ...   ...   \n",
       "7814692    8496534           470  2013   \n",
       "7814693    8534022           470  2013   \n",
       "7814694    8550755           470  2013   \n",
       "7814695    8602696           470  2013   \n",
       "7814696    8616039           470  2013   \n",
       "\n",
       "                                               patent_text  \n",
       "0        Junction field effect transistor  A junction f...  \n",
       "1        Method manufacturing compact thermoelectric mo...  \n",
       "2        Method apparatus selective burnout trimming in...  \n",
       "3        Method manufacturing integrated circuits A met...  \n",
       "4        Process attaching lead member semiconductor de...  \n",
       "...                                                    ...  \n",
       "7814692  Group taps prepared hole cutting tools In FIG ...  \n",
       "7814693  Twisted threaded reinforcing bar Techniques re...  \n",
       "7814694  Tap driver rigidsynchronous tapping Disclosed ...  \n",
       "7814695  Form tap plurality lobes A form tap tapping ar...  \n",
       "7814696  Method manufacturing clinch pin fastener A cli...  \n",
       "\n",
       "[7814697 rows x 4 columns]"
      ]
     },
     "execution_count": 6,
     "metadata": {},
     "output_type": "execute_result"
    }
   ],
   "source": [
    "import pandas as pd\n",
    "\n",
    "data = pd.read_csv('c:/users/kchun/desktop/notebooks/patents_v6.csv')\n",
    "data"
   ]
  },
  {
   "cell_type": "code",
   "execution_count": 7,
   "metadata": {},
   "outputs": [
    {
     "name": "stderr",
     "output_type": "stream",
     "text": [
      "Writing Documents: 10000it [00:03, 2670.84it/s]            \n"
     ]
    }
   ],
   "source": [
    "from crapstack.haystack.schema import Document\n",
    "\n",
    "documents = [Document(content=txt) for txt in data['patent_text'].sample(frac=.0005)]\n",
    "document_store.write_documents(documents=documents)"
   ]
  },
  {
   "cell_type": "code",
   "execution_count": 8,
   "metadata": {},
   "outputs": [
    {
     "name": "stderr",
     "output_type": "stream",
     "text": [
      "The tokenizer class you load from this checkpoint is not the same type as the class this function is called from. It may result in unexpected tokenization. \n",
      "The tokenizer class you load from this checkpoint is 'DPRQuestionEncoderTokenizer'. \n",
      "The class this function is called from is 'DPRContextEncoderTokenizerFast'.\n",
      "ML logging didn't work: name 'tracker' is not defined\n"
     ]
    }
   ],
   "source": [
    "from crapstack.haystack.nodes.retriever import DensePassageRetriever\n",
    "from crapstack.haystack.nodes.answer_generator.transformers import Seq2SeqGenerator\n",
    "from crapstack.haystack.pipelines.standard_pipelines import GenerativeQAPipeline\n",
    "# from transformers import T5ForConditionalGeneration\n",
    "# import torch\n",
    "\n",
    "retriever = DensePassageRetriever(\n",
    "    document_store=document_store,\n",
    "    query_embedding_model=\"vblagoje/dpr-question_encoder-single-lfqa-wiki\",\n",
    "    passage_embedding_model=\"vblagoje/dpr-ctx_encoder-single-lfqa-wiki\",\n",
    ")\n",
    "\n",
    "generator = Seq2SeqGenerator(model_name_or_path=\"vblagoje/bart_lfqa\")\n",
    "# generator = T5ForConditionalGeneration.from_pretrained(\"google/flan-ul2\", torch_dtype=torch.bfloat16, device_map=\"auto\")                                                                 \n",
    "\n",
    "pipe = GenerativeQAPipeline(generator, retriever)"
   ]
  },
  {
   "cell_type": "code",
   "execution_count": 9,
   "metadata": {},
   "outputs": [
    {
     "name": "stderr",
     "output_type": "stream",
     "text": [
      "Documents Processed: 10000 docs [10:44, 15.52 docs/s]           \n"
     ]
    }
   ],
   "source": [
    "document_store.update_embeddings(retriever)"
   ]
  },
  {
   "cell_type": "code",
   "execution_count": 10,
   "metadata": {},
   "outputs": [
    {
     "data": {
      "text/plain": [
       "{'query': 'what is machine learning?',\n",
       " 'answers': [<Answer {'answer': \"Machine learning is the process of learning to recognize patterns in data. For example, if you give a computer a picture of a dog, it will learn to recognize the shape of the dog's face. Machine learning can be used to learn to recognise patterns in other data as well.\", 'type': 'generative', 'score': None, 'context': None, 'offsets_in_document': None, 'offsets_in_context': None, 'document_ids': ['c27df76a32b18dbfa05ea6ebc2b8fe3d', 'af48f971606dcd26008ba961ecf292de', '47a6ce513b6ab680ce9263b6677363df', '51bbd03dcf12deb918906d18cdd9ae9c', '88ffdd64bab0e31f7a2532544024608b', 'e3b314abe89d00e93fd61e1f978ebdef', '1f5d55f3aec8a3f5b9911b4e073a457c', 'c461e5fe3b4b142ff75c257d472425b2', 'bfa158f4d433bccdb06c781753c43275', '487490e188415989db94731927bbdcae'], 'meta': {'doc_scores': [0.5382860120504362, 0.5381226770061404, 0.5369550752082091, 0.5355375157624958, 0.5327604277313529, 0.5311598659687891, 0.5308309394487241, 0.530598273068916, 0.529865481236017, 0.5297406659201922], 'content': ['Method apparatus processing data across computer network A method processing data computer containing processor described wherein method comprises steps providing least one program object instruction set least one set rules responsive input data set rules used processor determine program instructions issued providing formbased user interface accepting input data user computer system formsbased user interface causing processor compare input data one rules determine least one next program instruction executed causing said least one next program instruction executed The formsbased user interface comprises standard HyperText Markup Language constructs together new work flow interface commands which depending information submitted received work flow process one user interfaces may alter work flow process', 'Converting software objects A computer program product provided The product comprises computer usable medium computer readable program code embodied therein computer readable program code adapted executed implement method converting data objects constructed according different software technologies The method comprises providing system comprising distinct software modules perform converting data objects processing properties file identify first class associated first software technology based second class associated second software technology The method also comprises analyzing first class identify first attribute first class The method also comprises constructing first object first class assigning first value first attribute first object based second value second attribute second object second class', 'Process designing users interfaces application programs A method invoking user interface use application operating computer system involves providing computer system generic object class corresponds class function performed using user interface specifying application instance data form generic object specification corresponds generic object class instance data including attribute criteria hint criteria providing computer system least one specific user interface toolbox controller operates computer system provide selection possible specific user interface implementations use performing class function providing computer system least one interpreter corresponds least one specific user interface toolbox controller', 'Methods systems providing information computer users Methods systems providing information computer users described In one embodiment multiple different algorithms displayed user select The algorithms configured display quick links user navigate Individual algorithms employable across different content types A user select individual algorithm and responsively methods systems display one quick links provided selected algorithm', 'Parsing structured data A method parsing structured data steps of receiving input data first computer language generating plurality tokens according input data building context using grammar syntax comprising set rules context comprising plurality context steps form least one chains context steps step building context comprising substeps of detecting according grammar syntax token allowable context token allowable creating new context step corresponding token steps recovering unallowable token identifying suitable context unallowable token context token allowable applying token identified suitable context', 'Scheduling logic programmable device implemented using highlevel language Methods apparatus provided implementing programmable device including processor core hardware accelerator secondary components memory A portion program written highlevel language automatically selected hardware acceleration Dedicated ports generated allow hardware accelerator handle pointer referencing dereferencing A hardware accelerator generated perform pipelined processing instructions The number stages implemented pipelined processing least partially dependent latency associated accessing secondary components', 'Programming apparatus A programming apparatus arrangement formulating automating task performed form programming language automating apparatuses described simplifies process error analysis analysis unit For purpose programming apparatus provided arrangement store operands 9 27 marked monitored order appear network logic list Furthermore programming apparatus arrangement store operands network operand list order appear network The lists transferred analysis unit analysis', 'System method accelerating graphics processing using postgeometry data stream multiplepass rendering A system method provided accelerating graphics processing utilizing multiplepass rendering Initially geometry operations performed graphics data graphics data stored memory During first rendering pass various operations take place For example graphics data read memory graphics data rasterized Moreover first zculling operations performed utilizing graphics data Such first zculling operations maintain first occlusion image During second rendering pass graphics data read memory Still yet graphics data rasterized second zculling operations performed utilizing graphics data first occlusion image Moreover visibility operations performed utilizing graphics data second occlusion image Rasterprocessor operations also performed utilizing graphics data second rendering pass', 'Multitool machine provided numerical control system A method device machining workpieces multitool machine provided numerical control system For automatic simultaneous execution machining instructions relate control one tool instruction groups formed machining instructions simultaneously executed basis mutual independence Within instruction group partial dependency exist basis whereof subsequent instruction executed condition imposed previous instruction satisfied', 'System method performing multipath storage operations Systems methods allocating transmission resources within computer network provided In embodiments invention communication links may assigned based predefined preferences system configuration facilitate transfer data one point network another In embodiments system operation may monitored communication paths assigned dynamically based information improve system operation provide improved failover response load balancing promote robust data access via alternative routes'], 'titles': ['', '', '', '', '', '', '', '', '', ''], 'doc_metas': [{'vector_id': '2910'}, {'vector_id': '2605'}, {'vector_id': '923'}, {'vector_id': '1111'}, {'vector_id': '1987'}, {'vector_id': '3448'}, {'vector_id': '253'}, {'vector_id': '2941'}, {'vector_id': '2867'}, {'vector_id': '937'}]}}>],\n",
       " 'documents': [<Document: {'content': 'Method apparatus processing data across computer network A method processing data computer containing processor described wherein method comprises steps providing least one program object instruction set least one set rules responsive input data set rules used processor determine program instructions issued providing formbased user interface accepting input data user computer system formsbased user interface causing processor compare input data one rules determine least one next program instruction executed causing said least one next program instruction executed The formsbased user interface comprises standard HyperText Markup Language constructs together new work flow interface commands which depending information submitted received work flow process one user interfaces may alter work flow process', 'content_type': 'text', 'score': 0.5382860120504362, 'meta': {'vector_id': '2910'}, 'id_hash_keys': ['content'], 'embedding': None, 'id': 'c27df76a32b18dbfa05ea6ebc2b8fe3d'}>,\n",
       "  <Document: {'content': 'Converting software objects A computer program product provided The product comprises computer usable medium computer readable program code embodied therein computer readable program code adapted executed implement method converting data objects constructed according different software technologies The method comprises providing system comprising distinct software modules perform converting data objects processing properties file identify first class associated first software technology based second class associated second software technology The method also comprises analyzing first class identify first attribute first class The method also comprises constructing first object first class assigning first value first attribute first object based second value second attribute second object second class', 'content_type': 'text', 'score': 0.5381226770061404, 'meta': {'vector_id': '2605'}, 'id_hash_keys': ['content'], 'embedding': None, 'id': 'af48f971606dcd26008ba961ecf292de'}>,\n",
       "  <Document: {'content': 'Process designing users interfaces application programs A method invoking user interface use application operating computer system involves providing computer system generic object class corresponds class function performed using user interface specifying application instance data form generic object specification corresponds generic object class instance data including attribute criteria hint criteria providing computer system least one specific user interface toolbox controller operates computer system provide selection possible specific user interface implementations use performing class function providing computer system least one interpreter corresponds least one specific user interface toolbox controller', 'content_type': 'text', 'score': 0.5369550752082091, 'meta': {'vector_id': '923'}, 'id_hash_keys': ['content'], 'embedding': None, 'id': '47a6ce513b6ab680ce9263b6677363df'}>,\n",
       "  <Document: {'content': 'Methods systems providing information computer users Methods systems providing information computer users described In one embodiment multiple different algorithms displayed user select The algorithms configured display quick links user navigate Individual algorithms employable across different content types A user select individual algorithm and responsively methods systems display one quick links provided selected algorithm', 'content_type': 'text', 'score': 0.5355375157624958, 'meta': {'vector_id': '1111'}, 'id_hash_keys': ['content'], 'embedding': None, 'id': '51bbd03dcf12deb918906d18cdd9ae9c'}>,\n",
       "  <Document: {'content': 'Parsing structured data A method parsing structured data steps of receiving input data first computer language generating plurality tokens according input data building context using grammar syntax comprising set rules context comprising plurality context steps form least one chains context steps step building context comprising substeps of detecting according grammar syntax token allowable context token allowable creating new context step corresponding token steps recovering unallowable token identifying suitable context unallowable token context token allowable applying token identified suitable context', 'content_type': 'text', 'score': 0.5327604277313529, 'meta': {'vector_id': '1987'}, 'id_hash_keys': ['content'], 'embedding': None, 'id': '88ffdd64bab0e31f7a2532544024608b'}>,\n",
       "  <Document: {'content': 'Scheduling logic programmable device implemented using highlevel language Methods apparatus provided implementing programmable device including processor core hardware accelerator secondary components memory A portion program written highlevel language automatically selected hardware acceleration Dedicated ports generated allow hardware accelerator handle pointer referencing dereferencing A hardware accelerator generated perform pipelined processing instructions The number stages implemented pipelined processing least partially dependent latency associated accessing secondary components', 'content_type': 'text', 'score': 0.5311598659687891, 'meta': {'vector_id': '3448'}, 'id_hash_keys': ['content'], 'embedding': None, 'id': 'e3b314abe89d00e93fd61e1f978ebdef'}>,\n",
       "  <Document: {'content': 'Programming apparatus A programming apparatus arrangement formulating automating task performed form programming language automating apparatuses described simplifies process error analysis analysis unit For purpose programming apparatus provided arrangement store operands 9 27 marked monitored order appear network logic list Furthermore programming apparatus arrangement store operands network operand list order appear network The lists transferred analysis unit analysis', 'content_type': 'text', 'score': 0.5308309394487241, 'meta': {'vector_id': '253'}, 'id_hash_keys': ['content'], 'embedding': None, 'id': '1f5d55f3aec8a3f5b9911b4e073a457c'}>,\n",
       "  <Document: {'content': 'System method accelerating graphics processing using postgeometry data stream multiplepass rendering A system method provided accelerating graphics processing utilizing multiplepass rendering Initially geometry operations performed graphics data graphics data stored memory During first rendering pass various operations take place For example graphics data read memory graphics data rasterized Moreover first zculling operations performed utilizing graphics data Such first zculling operations maintain first occlusion image During second rendering pass graphics data read memory Still yet graphics data rasterized second zculling operations performed utilizing graphics data first occlusion image Moreover visibility operations performed utilizing graphics data second occlusion image Rasterprocessor operations also performed utilizing graphics data second rendering pass', 'content_type': 'text', 'score': 0.530598273068916, 'meta': {'vector_id': '2941'}, 'id_hash_keys': ['content'], 'embedding': None, 'id': 'c461e5fe3b4b142ff75c257d472425b2'}>,\n",
       "  <Document: {'content': 'Multitool machine provided numerical control system A method device machining workpieces multitool machine provided numerical control system For automatic simultaneous execution machining instructions relate control one tool instruction groups formed machining instructions simultaneously executed basis mutual independence Within instruction group partial dependency exist basis whereof subsequent instruction executed condition imposed previous instruction satisfied', 'content_type': 'text', 'score': 0.529865481236017, 'meta': {'vector_id': '2867'}, 'id_hash_keys': ['content'], 'embedding': None, 'id': 'bfa158f4d433bccdb06c781753c43275'}>,\n",
       "  <Document: {'content': 'System method performing multipath storage operations Systems methods allocating transmission resources within computer network provided In embodiments invention communication links may assigned based predefined preferences system configuration facilitate transfer data one point network another In embodiments system operation may monitored communication paths assigned dynamically based information improve system operation provide improved failover response load balancing promote robust data access via alternative routes', 'content_type': 'text', 'score': 0.5297406659201922, 'meta': {'vector_id': '937'}, 'id_hash_keys': ['content'], 'embedding': None, 'id': '487490e188415989db94731927bbdcae'}>],\n",
       " 'root_node': 'Query',\n",
       " 'params': {},\n",
       " 'node_id': 'Generator'}"
      ]
     },
     "execution_count": 10,
     "metadata": {},
     "output_type": "execute_result"
    }
   ],
   "source": [
    "prediction = pipe.run(\n",
    "    query=\"what is machine learning?\"\n",
    ")\n",
    "\n",
    "prediction"
   ]
  },
  {
   "cell_type": "code",
   "execution_count": null,
   "metadata": {},
   "outputs": [],
   "source": []
  }
 ],
 "metadata": {
  "kernelspec": {
   "display_name": "base",
   "language": "python",
   "name": "python3"
  },
  "language_info": {
   "codemirror_mode": {
    "name": "ipython",
    "version": 3
   },
   "file_extension": ".py",
   "mimetype": "text/x-python",
   "name": "python",
   "nbconvert_exporter": "python",
   "pygments_lexer": "ipython3",
   "version": "3.8.16"
  },
  "orig_nbformat": 4
 },
 "nbformat": 4,
 "nbformat_minor": 2
}
